{
 "cells": [
  {
   "cell_type": "code",
   "execution_count": 1,
   "metadata": {},
   "outputs": [],
   "source": [
    "import matplotlib.pyplot as plt\n",
    "from sklearn import preprocessing as pp"
   ]
  },
  {
   "cell_type": "code",
   "execution_count": 2,
   "metadata": {},
   "outputs": [],
   "source": [
    "import os\n",
    "\n",
    "\n"
   ]
  },
  {
   "cell_type": "code",
   "execution_count": 3,
   "metadata": {},
   "outputs": [
    {
     "name": "stderr",
     "output_type": "stream",
     "text": [
      "/home/hackerman/anaconda2/envs/py36/lib/python3.6/site-packages/h5py/__init__.py:36: FutureWarning: Conversion of the second argument of issubdtype from `float` to `np.floating` is deprecated. In future, it will be treated as `np.float64 == np.dtype(float).type`.\n",
      "  from ._conv import register_converters as _register_converters\n"
     ]
    }
   ],
   "source": [
    "\n",
    "os.chdir(os.path.dirname('/home/hackerman/GitHub/exploration/tf_fun/'))\n",
    "\n",
    "# propriatary mnist management\n",
    "DATASETSLIB_HOME = './datasetslib'\n",
    "import sys\n",
    "if not DATASETSLIB_HOME in sys.path:\n",
    "    sys.path.append(DATASETSLIB_HOME)\n",
    "%reload_ext autoreload\n",
    "%autoreload 2\n",
    "import datasetslib\n",
    "\n",
    "from datasetslib import util as dsu\n",
    "datasetslib.datasets_root = os.path.join(os.path.expanduser('~'),'datasets')"
   ]
  },
  {
   "cell_type": "code",
   "execution_count": 93,
   "metadata": {},
   "outputs": [],
   "source": [
    "import pandas as pd\n",
    "import numpy as np\n",
    "filename = os.path.join(datasetslib.datasets_root,'international-airline-passengers.csv')\n",
    "dataframe = pd.read_csv(filename,usecols=[1],header=0)\n",
    "dataset = dataframe.values[:-22]\n",
    "dataset = dataset.astype(np.float32)\n",
    "\n",
    "scaler = pp.MinMaxScaler(feature_range=(0,1))\n",
    "normalized_dataset = scaler.fit_transform(dataset)\n",
    "\n",
    "train,test=dsu.train_test_split(normalized_dataset,train_size=0.75)\n",
    "n_x=5\n",
    "n_y=5\n",
    "X_train, Y_train, X_test, Y_test = dsu.mvts_to_xy(train,test,n_x=n_x,n_y=n_y)\n"
   ]
  },
  {
   "cell_type": "code",
   "execution_count": 91,
   "metadata": {},
   "outputs": [
    {
     "data": {
      "text/plain": [
       "(122, 410, 410, 110, 110)"
      ]
     },
     "execution_count": 91,
     "metadata": {},
     "output_type": "execute_result"
    }
   ],
   "source": [
    "dataset.size,X_train.size, Y_train.size, X_test.size, Y_test.size"
   ]
  },
  {
   "cell_type": "code",
   "execution_count": 92,
   "metadata": {},
   "outputs": [
    {
     "data": {
      "text/plain": [
       "array([[112., 118., 132., 129., 121.],\n",
       "       [118., 132., 129., 121., 135.],\n",
       "       [132., 129., 121., 135., 148.],\n",
       "       [129., 121., 135., 148., 148.],\n",
       "       [121., 135., 148., 148., 136.],\n",
       "       [135., 148., 148., 136., 119.],\n",
       "       [148., 148., 136., 119., 104.],\n",
       "       [148., 136., 119., 104., 118.],\n",
       "       [136., 119., 104., 118., 115.],\n",
       "       [119., 104., 118., 115., 126.],\n",
       "       [104., 118., 115., 126., 141.],\n",
       "       [118., 115., 126., 141., 135.],\n",
       "       [115., 126., 141., 135., 125.],\n",
       "       [126., 141., 135., 125., 149.],\n",
       "       [141., 135., 125., 149., 170.],\n",
       "       [135., 125., 149., 170., 170.],\n",
       "       [125., 149., 170., 170., 158.],\n",
       "       [149., 170., 170., 158., 133.],\n",
       "       [170., 170., 158., 133., 114.],\n",
       "       [170., 158., 133., 114., 140.],\n",
       "       [158., 133., 114., 140., 145.],\n",
       "       [133., 114., 140., 145., 150.],\n",
       "       [114., 140., 145., 150., 178.],\n",
       "       [140., 145., 150., 178., 163.],\n",
       "       [145., 150., 178., 163., 172.],\n",
       "       [150., 178., 163., 172., 178.],\n",
       "       [178., 163., 172., 178., 199.],\n",
       "       [163., 172., 178., 199., 199.],\n",
       "       [172., 178., 199., 199., 184.],\n",
       "       [178., 199., 199., 184., 162.],\n",
       "       [199., 199., 184., 162., 146.],\n",
       "       [199., 184., 162., 146., 166.],\n",
       "       [184., 162., 146., 166., 171.],\n",
       "       [162., 146., 166., 171., 180.],\n",
       "       [146., 166., 171., 180., 193.],\n",
       "       [166., 171., 180., 193., 181.],\n",
       "       [171., 180., 193., 181., 183.],\n",
       "       [180., 193., 181., 183., 218.],\n",
       "       [193., 181., 183., 218., 230.],\n",
       "       [181., 183., 218., 230., 242.],\n",
       "       [183., 218., 230., 242., 209.],\n",
       "       [218., 230., 242., 209., 191.],\n",
       "       [230., 242., 209., 191., 172.],\n",
       "       [242., 209., 191., 172., 194.],\n",
       "       [209., 191., 172., 194., 196.],\n",
       "       [191., 172., 194., 196., 196.],\n",
       "       [172., 194., 196., 196., 236.],\n",
       "       [194., 196., 196., 236., 235.],\n",
       "       [196., 196., 236., 235., 229.],\n",
       "       [196., 236., 235., 229., 243.],\n",
       "       [236., 235., 229., 243., 264.],\n",
       "       [235., 229., 243., 264., 272.],\n",
       "       [229., 243., 264., 272., 237.],\n",
       "       [243., 264., 272., 237., 211.],\n",
       "       [264., 272., 237., 211., 180.],\n",
       "       [272., 237., 211., 180., 201.],\n",
       "       [237., 211., 180., 201., 204.],\n",
       "       [211., 180., 201., 204., 188.],\n",
       "       [180., 201., 204., 188., 235.],\n",
       "       [201., 204., 188., 235., 227.],\n",
       "       [204., 188., 235., 227., 234.],\n",
       "       [188., 235., 227., 234., 264.],\n",
       "       [235., 227., 234., 264., 302.],\n",
       "       [227., 234., 264., 302., 293.],\n",
       "       [234., 264., 302., 293., 259.],\n",
       "       [264., 302., 293., 259., 229.],\n",
       "       [302., 293., 259., 229., 203.],\n",
       "       [293., 259., 229., 203., 229.],\n",
       "       [259., 229., 203., 229., 242.],\n",
       "       [229., 203., 229., 242., 233.],\n",
       "       [203., 229., 242., 233., 267.],\n",
       "       [229., 242., 233., 267., 269.],\n",
       "       [242., 233., 267., 269., 270.],\n",
       "       [233., 267., 269., 270., 315.],\n",
       "       [267., 269., 270., 315., 364.],\n",
       "       [269., 270., 315., 364., 347.],\n",
       "       [270., 315., 364., 347., 312.],\n",
       "       [315., 364., 347., 312., 274.],\n",
       "       [364., 347., 312., 274., 237.],\n",
       "       [347., 312., 274., 237., 278.],\n",
       "       [312., 274., 237., 278., 284.],\n",
       "       [274., 237., 278., 284., 277.]], dtype=float32)"
      ]
     },
     "execution_count": 92,
     "metadata": {},
     "output_type": "execute_result"
    }
   ],
   "source": [
    "X_train"
   ]
  },
  {
   "cell_type": "code",
   "execution_count": 34,
   "metadata": {},
   "outputs": [
    {
     "data": {
      "text/plain": [
       "(86,\n",
       " 82,\n",
       " array([0.42394015, 0.33167085, 0.43391523, 0.44887778], dtype=float32))"
      ]
     },
     "execution_count": 34,
     "metadata": {},
     "output_type": "execute_result"
    }
   ],
   "source": [
    "X = [X[0] for X in X_train]\n",
    "X.extend(X_train[-1][:4])\n",
    "len(X),len(X_train),X_train[-1][:4]\n",
    "#X.append(X_train[-1][1:4])"
   ]
  },
  {
   "cell_type": "code",
   "execution_count": 35,
   "metadata": {},
   "outputs": [
    {
     "data": {
      "text/plain": [
       "[0,\n",
       " 1,\n",
       " 2,\n",
       " 3,\n",
       " 4,\n",
       " 5,\n",
       " 6,\n",
       " 7,\n",
       " 8,\n",
       " 9,\n",
       " 10,\n",
       " 11,\n",
       " 12,\n",
       " 13,\n",
       " 14,\n",
       " 15,\n",
       " 16,\n",
       " 17,\n",
       " 18,\n",
       " 19,\n",
       " 20,\n",
       " 21,\n",
       " 22,\n",
       " 23,\n",
       " 24,\n",
       " 25,\n",
       " 26,\n",
       " 27,\n",
       " 28,\n",
       " 29,\n",
       " 30,\n",
       " 31,\n",
       " 32,\n",
       " 33,\n",
       " 34,\n",
       " 35,\n",
       " 36,\n",
       " 37,\n",
       " 38,\n",
       " 39,\n",
       " 40,\n",
       " 41,\n",
       " 42,\n",
       " 43,\n",
       " 44,\n",
       " 45,\n",
       " 46,\n",
       " 47,\n",
       " 48,\n",
       " 49,\n",
       " 50,\n",
       " 51,\n",
       " 52,\n",
       " 53,\n",
       " 54,\n",
       " 55,\n",
       " 56,\n",
       " 57,\n",
       " 58,\n",
       " 59,\n",
       " 60,\n",
       " 61,\n",
       " 62,\n",
       " 63,\n",
       " 64,\n",
       " 65,\n",
       " 66,\n",
       " 67,\n",
       " 68,\n",
       " 69,\n",
       " 70,\n",
       " 71,\n",
       " 72,\n",
       " 73,\n",
       " 74,\n",
       " 75,\n",
       " 76,\n",
       " 77,\n",
       " 78,\n",
       " 79,\n",
       " 80,\n",
       " 81,\n",
       " 82,\n",
       " 83,\n",
       " 84,\n",
       " 85,\n",
       " 86,\n",
       " 87,\n",
       " 88,\n",
       " 89,\n",
       " 90,\n",
       " 91,\n",
       " 92,\n",
       " 93,\n",
       " 94,\n",
       " 95,\n",
       " 96,\n",
       " 97,\n",
       " 98,\n",
       " 99,\n",
       " 100,\n",
       " 101,\n",
       " 102,\n",
       " 103,\n",
       " 104,\n",
       " 105,\n",
       " 106,\n",
       " 107,\n",
       " 108,\n",
       " 109,\n",
       " 110,\n",
       " 111,\n",
       " 112,\n",
       " 113,\n",
       " 114,\n",
       " 115,\n",
       " 116,\n",
       " 117,\n",
       " 118,\n",
       " 119,\n",
       " 120,\n",
       " 121]"
      ]
     },
     "execution_count": 35,
     "metadata": {},
     "output_type": "execute_result"
    }
   ],
   "source": [
    "list(range(len(normalized_dataset)))"
   ]
  },
  {
   "cell_type": "code",
   "execution_count": 36,
   "metadata": {},
   "outputs": [],
   "source": [
    "Xtest =list(X_test[0][:4])\n",
    "Xtest.extend([X[4] for X in X_test])"
   ]
  },
  {
   "cell_type": "code",
   "execution_count": 39,
   "metadata": {},
   "outputs": [
    {
     "name": "stdout",
     "output_type": "stream",
     "text": [
      "26\n"
     ]
    },
    {
     "data": {
      "image/png": "[encoded data removed]",
      "text/plain": [
       "<Figure size 432x288 with 1 Axes>"
      ]
     },
     "metadata": {},
     "output_type": "display_data"
    }
   ],
   "source": [
    "plt.plot(normalized_dataset,label='Original Data')\n",
    "Xtrain = [X[0] for X in X_train]\n",
    "Xtrain.extend(X_train[-1][1:])\n",
    "plt.plot(Xtrain,label='Train Data')\n",
    "Xtest =list(X_test[0][:4])\n",
    "Xtest.extend([X[4] for X in X_test])\n",
    "print(len(Xtest))\n",
    "y = [Y + len(X)+5 for Y in range(len(Xtest))]\n",
    "plt.plot(y,Xtest,label='Test Data')\n",
    "plt.legend()\n",
    "plt.show()"
   ]
  },
  {
   "cell_type": "code",
   "execution_count": 40,
   "metadata": {},
   "outputs": [],
   "source": [
    "state_size = 32\n",
    "n_epochs = 2000\n",
    "n_timesteps = n_x \n",
    "learning_rate = 0.1\n",
    "n_x_vars = 1\n",
    "n_y_vars = 1"
   ]
  },
  {
   "cell_type": "code",
   "execution_count": 41,
   "metadata": {},
   "outputs": [],
   "source": [
    "import tensorflow as tf\n",
    "def variable_summaries(var):\n",
    "    \"\"\"Attach a lot of summaries to a Tensor (for TensorBoard visualization).\"\"\"\n",
    "    with tf.name_scope('summaries'):\n",
    "        mean = tf.reduce_mean(var)\n",
    "        tf.summary.scalar('mean', mean)\n",
    "        with tf.name_scope('stddev'):\n",
    "            stddev = tf.sqrt(tf.reduce_mean(tf.square(var - mean)))\n",
    "        tf.summary.scalar('stddev', stddev)\n",
    "        tf.summary.scalar('max', tf.reduce_max(var))\n",
    "        tf.summary.scalar('min', tf.reduce_min(var))\n",
    "        tf.summary.histogram('histogram', var)\n"
   ]
  },
  {
   "cell_type": "code",
   "execution_count": 42,
   "metadata": {},
   "outputs": [],
   "source": [
    "tf.reset_default_graph()"
   ]
  },
  {
   "cell_type": "code",
   "execution_count": 43,
   "metadata": {},
   "outputs": [],
   "source": [
    "X_p = tf.placeholder(tf.float32,[None,n_timesteps,n_x_vars],name='X_p')\n",
    "Y_p = tf.placeholder(tf.float32,[None,n_timesteps,n_y_vars],name='Y_p')"
   ]
  },
  {
   "cell_type": "code",
   "execution_count": 44,
   "metadata": {},
   "outputs": [],
   "source": [
    "rnn_inputs = tf.unstack(X_p,axis=1)"
   ]
  },
  {
   "cell_type": "code",
   "execution_count": 45,
   "metadata": {},
   "outputs": [],
   "source": [
    "os.chdir(os.path.dirname('/home/hackerman/GitHub/NAS_CEPTION/'))\n"
   ]
  },
  {
   "cell_type": "code",
   "execution_count": 46,
   "metadata": {},
   "outputs": [],
   "source": [
    "\n",
    "#from cell import BasicLSTMCell"
   ]
  },
  {
   "cell_type": "code",
   "execution_count": 47,
   "metadata": {},
   "outputs": [],
   "source": [
    "from tensorflow.python.ops import math_ops\n",
    "from tensorflow.python.ops import nn_ops\n"
   ]
  },
  {
   "cell_type": "code",
   "execution_count": 48,
   "metadata": {},
   "outputs": [],
   "source": [
    "# comparison cell\n",
    "# from tensorflow.contrib.rnn import BasicLSTMCell\n",
    "# cell = BasicLSTMCell(state_size)\n",
    "# my cell\n",
    "# from modifiedLSTM import BasicNeatCell\n",
    "# cell = BasicNeatCell(state_size)\n",
    "# my cell\n",
    "from modifiedLSTM import AdvancedNeatCell\n",
    "with tf.name_scope(\"cell\"):\n",
    "    cell = AdvancedNeatCell(state_size)"
   ]
  },
  {
   "cell_type": "code",
   "execution_count": 49,
   "metadata": {},
   "outputs": [],
   "source": [
    "rnn_outputs, _ = tf.nn.static_rnn(cell,rnn_inputs,dtype=tf.float32)"
   ]
  },
  {
   "cell_type": "code",
   "execution_count": 50,
   "metadata": {
    "scrolled": true
   },
   "outputs": [
    {
     "name": "stdout",
     "output_type": "stream",
     "text": [
      "Tensor(\"add:0\", shape=(?, 1), dtype=float32)\n"
     ]
    }
   ],
   "source": [
    "with tf.name_scope(\"model\"):\n",
    "    W = tf.get_variable('W',[state_size,n_y_vars])\n",
    "    variable_summaries(W)\n",
    "    b = tf.get_variable('b',[n_y_vars], initializer=tf.constant_initializer(0.0))\n",
    "    variable_summaries(b)\n",
    "predictions = [tf.matmul(rnn_output, W) + b for rnn_output in rnn_outputs]\n",
    "print (predictions[0])"
   ]
  },
  {
   "cell_type": "code",
   "execution_count": 51,
   "metadata": {},
   "outputs": [],
   "source": [
    "y_as_list = tf.unstack(Y_p,num=n_timesteps,axis=1)"
   ]
  },
  {
   "cell_type": "code",
   "execution_count": 52,
   "metadata": {},
   "outputs": [],
   "source": [
    "with tf.name_scope(\"mse\"):\n",
    "    mse = tf.losses.mean_squared_error\n",
    "    # variable_summaries(mse)\n",
    "with tf.name_scope(\"loss\"):\n",
    "    losses = [mse(labels=label, predictions=prediction) for prediction, label in zip(predictions, y_as_list)]\n",
    "    variable_summaries(losses)"
   ]
  },
  {
   "cell_type": "code",
   "execution_count": 53,
   "metadata": {},
   "outputs": [],
   "source": [
    "total_loss = tf.reduce_mean(losses)\n",
    "# tf.summary.scalar(total_loss)"
   ]
  },
  {
   "cell_type": "code",
   "execution_count": 54,
   "metadata": {},
   "outputs": [],
   "source": [
    "with tf.name_scope(\"train_step\"):\n",
    "    train_step = tf.train.AdagradOptimizer(learning_rate).minimize(total_loss)\n",
    "    # variable_summaries(train_step)\n"
   ]
  },
  {
   "cell_type": "code",
   "execution_count": 55,
   "metadata": {},
   "outputs": [],
   "source": [
    "merged = tf.summary.merge_all()\n"
   ]
  },
  {
   "cell_type": "code",
   "execution_count": 56,
   "metadata": {},
   "outputs": [
    {
     "data": {
      "text/plain": [
       "<tf.Tensor 'Merge/MergeSummary:0' shape=() dtype=string>"
      ]
     },
     "execution_count": 56,
     "metadata": {},
     "output_type": "execute_result"
    }
   ],
   "source": [
    "merged"
   ]
  },
  {
   "cell_type": "code",
   "execution_count": 74,
   "metadata": {},
   "outputs": [],
   "source": [
    "with tf.Session() as tfs:\n",
    "    train_writer = tf.summary.FileWriter('./train3',\n",
    "                                      tfs.graph)\n",
    "    test_writer = tf.summary.FileWriter('./test3',\n",
    "                                      tfs.graph)\n",
    "    tfs.run(tf.global_variables_initializer())\n",
    "    epoch_loss = 0.0\n",
    "    for epoch in range(n_epochs):\n",
    "        feed_dict={X_p: X_train.reshape(-1, n_timesteps, \n",
    "                                        n_x_vars), \n",
    "                   Y_p: Y_train.reshape(-1, n_timesteps, \n",
    "                                        n_y_vars)\n",
    "                  }\n",
    "        # print (merged)\n",
    "        epoch_loss,y_train_pred,_,summary = tfs.run([total_loss,predictions,train_step,merged], \n",
    "                                            feed_dict=feed_dict)\n",
    "        train_writer.add_summary(summary, epoch)\n",
    "        #print(\"train mse = {}\".format(epoch_loss))\n",
    "        feed_dict={X_p: X_test.reshape(-1, n_timesteps, \n",
    "                                        n_x_vars), \n",
    "                   Y_p: Y_test.reshape(-1, n_timesteps, \n",
    "                                        n_y_vars)\n",
    "                  }\n",
    "        test_loss, y_test_pred = tfs.run([total_loss,predictions], \n",
    "                                         feed_dict=feed_dict\n",
    "                                        )\n",
    "        train_writer.add_summary(summary, epoch)\n",
    "        #print('test mse = {}'.format(test_loss))\n",
    "        #print('test rmse = {}'.format(np.sqrt(test_loss)))"
   ]
  },
  {
   "cell_type": "code",
   "execution_count": 80,
   "metadata": {},
   "outputs": [
    {
     "data": {
      "text/plain": [
       "array([[0.15902501],\n",
       "       [0.16565707],\n",
       "       [0.1811535 ],\n",
       "       [0.17782988],\n",
       "       [0.16897503],\n",
       "       [0.18447876],\n",
       "       [0.19890606],\n",
       "       [0.19890606],\n",
       "       [0.18558751],\n",
       "       [0.16676314],\n",
       "       [0.15019348],\n",
       "       [0.16565707],\n",
       "       [0.16234015],\n",
       "       [0.1745079 ],\n",
       "       [0.19113398],\n",
       "       [0.18447876],\n",
       "       [0.17340094],\n",
       "       [0.200017  ],\n",
       "       [0.22338198],\n",
       "       [0.22338198],\n",
       "       [0.21002254],\n",
       "       [0.18226174],\n",
       "       [0.1612349 ],\n",
       "       [0.19002435],\n",
       "       [0.19557418],\n",
       "       [0.20112813],\n",
       "       [0.23229916],\n",
       "       [0.2155864 ],\n",
       "       [0.2256105 ],\n",
       "       [0.23229916],\n",
       "       [0.25574228],\n",
       "       [0.25574228],\n",
       "       [0.23899221],\n",
       "       [0.21447334],\n",
       "       [0.19668464],\n",
       "       [0.21892653],\n",
       "       [0.22449617],\n",
       "       [0.23452969],\n",
       "       [0.24903946],\n",
       "       [0.23564515],\n",
       "       [0.23787642],\n",
       "       [0.276989  ],\n",
       "       [0.29042172],\n",
       "       [0.30386263],\n",
       "       [0.26692113],\n",
       "       [0.24680597],\n",
       "       [0.2256105 ],\n",
       "       [0.25015634],\n",
       "       [0.25239044],\n",
       "       [0.25239044],\n",
       "       [0.2971413 ],\n",
       "       [0.29602125],\n",
       "       [0.289302  ],\n",
       "       [0.304983  ],\n",
       "       [0.3285182 ],\n",
       "       [0.33748627],\n",
       "       [0.29826143],\n",
       "       [0.2691579 ],\n",
       "       [0.23452969],\n",
       "       [0.25797737],\n",
       "       [0.26133063],\n",
       "       [0.24345654],\n",
       "       [0.29602125],\n",
       "       [0.2870627 ],\n",
       "       [0.29490122],\n",
       "       [0.3285182 ],\n",
       "       [0.37111357],\n",
       "       [0.36102697],\n",
       "       [0.3229136 ],\n",
       "       [0.289302  ],\n",
       "       [0.26021278],\n",
       "       [0.289302  ],\n",
       "       [0.30386263],\n",
       "       [0.29378128],\n",
       "       [0.33188117],\n",
       "       [0.3341232 ],\n",
       "       [0.3352442 ],\n",
       "       [0.3856782 ],\n",
       "       [0.44048053],\n",
       "       [0.42148933],\n",
       "       [0.38231775],\n",
       "       [0.33972836]], dtype=float32)"
      ]
     },
     "execution_count": 80,
     "metadata": {},
     "output_type": "execute_result"
    }
   ],
   "source": [
    "y_train_pred"
   ]
  },
  {
   "cell_type": "code",
   "execution_count": 78,
   "metadata": {},
   "outputs": [],
   "source": [
    "y_train_pred=y_train_pred[0]\n",
    "y_test_pred=y_test_pred[0]"
   ]
  },
  {
   "cell_type": "code",
   "execution_count": 81,
   "metadata": {},
   "outputs": [],
   "source": [
    "#invert predictions\n",
    "y_train_pred = scaler.inverse_transform(y_train_pred)\n",
    "y_test_pred = scaler.inverse_transform(y_test_pred)\n",
    "\n",
    "#invert originals\n",
    "y_train_orig = scaler.inverse_transform(Y_train)\n",
    "y_test_orig = scaler.inverse_transform(Y_test)"
   ]
  },
  {
   "cell_type": "code",
   "execution_count": 84,
   "metadata": {},
   "outputs": [
    {
     "data": {
      "text/plain": [
       "array([[167.76903],\n",
       "       [170.42848],\n",
       "       [176.64256],\n",
       "       [175.30978],\n",
       "       [171.75899],\n",
       "       [177.97598],\n",
       "       [183.76134],\n",
       "       [183.76134],\n",
       "       [178.4206 ],\n",
       "       [170.87202],\n",
       "       [164.22758],\n",
       "       [170.42848],\n",
       "       [169.09839],\n",
       "       [173.97766],\n",
       "       [180.64473],\n",
       "       [177.97598],\n",
       "       [173.53378],\n",
       "       [184.20682],\n",
       "       [193.57617],\n",
       "       [193.57617],\n",
       "       [188.21904],\n",
       "       [177.08696],\n",
       "       [168.6552 ],\n",
       "       [180.19977],\n",
       "       [182.42525],\n",
       "       [184.65237],\n",
       "       [197.15198],\n",
       "       [190.45015],\n",
       "       [194.4698 ],\n",
       "       [197.15198],\n",
       "       [206.55266],\n",
       "       [206.55266],\n",
       "       [199.83588],\n",
       "       [190.00381],\n",
       "       [182.87054],\n",
       "       [191.78954],\n",
       "       [194.02296],\n",
       "       [198.04642],\n",
       "       [203.86482],\n",
       "       [198.4937 ],\n",
       "       [199.38844],\n",
       "       [215.0726 ],\n",
       "       [220.4591 ],\n",
       "       [225.84892],\n",
       "       [211.03537],\n",
       "       [202.96921],\n",
       "       [194.4698 ],\n",
       "       [204.31271],\n",
       "       [205.20859],\n",
       "       [205.20859],\n",
       "       [223.15366],\n",
       "       [222.70453],\n",
       "       [220.01009],\n",
       "       [226.29817],\n",
       "       [235.73581],\n",
       "       [239.33199],\n",
       "       [223.60283],\n",
       "       [211.9323 ],\n",
       "       [198.04642],\n",
       "       [207.44891],\n",
       "       [208.79358],\n",
       "       [201.62608],\n",
       "       [222.70453],\n",
       "       [219.11215],\n",
       "       [222.25539],\n",
       "       [235.73581],\n",
       "       [252.81654],\n",
       "       [248.77182],\n",
       "       [233.48836],\n",
       "       [220.01009],\n",
       "       [208.3453 ],\n",
       "       [220.01009],\n",
       "       [225.84892],\n",
       "       [221.80627],\n",
       "       [237.08434],\n",
       "       [237.98341],\n",
       "       [238.43292],\n",
       "       [258.65695],\n",
       "       [280.6327 ],\n",
       "       [273.0172 ],\n",
       "       [257.30942],\n",
       "       [240.23106]], dtype=float32)"
      ]
     },
     "execution_count": 84,
     "metadata": {},
     "output_type": "execute_result"
    }
   ],
   "source": [
    "y_train_pred"
   ]
  },
  {
   "cell_type": "code",
   "execution_count": 110,
   "metadata": {},
   "outputs": [
    {
     "data": {
      "image/png": "[encoded data removed]",
      "text/plain": [
       "<Figure size 432x288 with 1 Axes>"
      ]
     },
     "metadata": {},
     "output_type": "display_data"
    }
   ],
   "source": [
    "plt.plot(dataset,label='Original Data')\n",
    "#Xtrain = [if X[4] for X in y_train_pred]\n",
    "#Xtrain.extend(X_train[-1][1:])\n",
    "plt.plot(list(range(len(y_train_orig))),y_train_pred,label='Origin Train Data')\n",
    "plt.plot(list(range(len(y_train_pred))),y_train_pred,label='Predic Train Data')\n",
    "#Xtest =list(X_test[0][:4])\n",
    "#Xtest.extend([X[4] for X in y_test_orig])\n",
    "#print(len(Xtest))\n",
    "y = [Y + len(X)+14 for Y in range(len(y_test_pred))]\n",
    "plt.plot(y,y_test_pred,label='Test Data')\n",
    "plt.legend()\n",
    "plt.show()"
   ]
  },
  {
   "cell_type": "code",
   "execution_count": 61,
   "metadata": {},
   "outputs": [
    {
     "ename": "ValueError",
     "evalue": "could not broadcast input array from shape (22,1) into shape (30,1)",
     "output_type": "error",
     "traceback": [
      "\u001b[0;31m---------------------------------------------------------------------------\u001b[0m",
      "\u001b[0;31mValueError\u001b[0m                                Traceback (most recent call last)",
      "\u001b[0;32m<ipython-input-61-333aaa247108>\u001b[0m in \u001b[0;36m<module>\u001b[0;34m()\u001b[0m\n\u001b[1;32m      6\u001b[0m \u001b[0mtestPredictPlot\u001b[0m \u001b[0;34m=\u001b[0m \u001b[0mnp\u001b[0m\u001b[0;34m.\u001b[0m\u001b[0mempty_like\u001b[0m\u001b[0;34m(\u001b[0m\u001b[0mdataset\u001b[0m\u001b[0;34m)\u001b[0m\u001b[0;34m\u001b[0m\u001b[0m\n\u001b[1;32m      7\u001b[0m \u001b[0mtestPredictPlot\u001b[0m\u001b[0;34m[\u001b[0m\u001b[0;34m:\u001b[0m\u001b[0;34m,\u001b[0m \u001b[0;34m:\u001b[0m\u001b[0;34m]\u001b[0m \u001b[0;34m=\u001b[0m \u001b[0mnp\u001b[0m\u001b[0;34m.\u001b[0m\u001b[0mnan\u001b[0m\u001b[0;34m\u001b[0m\u001b[0m\n\u001b[0;32m----> 8\u001b[0;31m \u001b[0mtestPredictPlot\u001b[0m\u001b[0;34m[\u001b[0m\u001b[0mlen\u001b[0m\u001b[0;34m(\u001b[0m\u001b[0my_train_pred\u001b[0m\u001b[0;34m)\u001b[0m\u001b[0;34m+\u001b[0m\u001b[0;34m(\u001b[0m\u001b[0mn_x\u001b[0m\u001b[0;34m*\u001b[0m\u001b[0;36m2\u001b[0m\u001b[0;34m)\u001b[0m\u001b[0;34m-\u001b[0m\u001b[0;36m1\u001b[0m\u001b[0;34m:\u001b[0m\u001b[0mlen\u001b[0m\u001b[0;34m(\u001b[0m\u001b[0mdataset\u001b[0m\u001b[0;34m)\u001b[0m\u001b[0;34m-\u001b[0m\u001b[0;36m1\u001b[0m\u001b[0;34m,\u001b[0m \u001b[0;34m:\u001b[0m\u001b[0;34m]\u001b[0m \u001b[0;34m=\u001b[0m \u001b[0my_test_pred\u001b[0m\u001b[0;34m\u001b[0m\u001b[0m\n\u001b[0m\u001b[1;32m      9\u001b[0m \u001b[0;31m# plot baseline and predictions\u001b[0m\u001b[0;34m\u001b[0m\u001b[0;34m\u001b[0m\u001b[0m\n\u001b[1;32m     10\u001b[0m \u001b[0mplt\u001b[0m\u001b[0;34m.\u001b[0m\u001b[0mplot\u001b[0m\u001b[0;34m(\u001b[0m\u001b[0mdataset\u001b[0m\u001b[0;34m,\u001b[0m\u001b[0mlabel\u001b[0m\u001b[0;34m=\u001b[0m\u001b[0;34m'Original Data'\u001b[0m\u001b[0;34m)\u001b[0m\u001b[0;34m\u001b[0m\u001b[0m\n",
      "\u001b[0;31mValueError\u001b[0m: could not broadcast input array from shape (22,1) into shape (30,1)"
     ]
    }
   ],
   "source": [
    "# shift train predictions for plotting\n",
    "trainPredictPlot = np.empty_like(dataset)\n",
    "trainPredictPlot[:, :] = np.nan\n",
    "trainPredictPlot[n_x-1:len(y_train_pred)+n_x-1, :] = y_train_pred\n",
    "# shift test predictions for plotting\n",
    "testPredictPlot = np.empty_like(dataset)\n",
    "testPredictPlot[:, :] = np.nan\n",
    "testPredictPlot[len(y_train_pred)+(n_x*2)-1:len(dataset)-1, :] = y_test_pred\n",
    "# plot baseline and predictions\n",
    "plt.plot(dataset,label='Original Data')\n",
    "plt.plot(trainPredictPlot,label='y_train_pred')\n",
    "plt.plot(testPredictPlot,label='y_test_pred')\n",
    "plt.legend()\n",
    "plt.xlabel('Timesteps')\n",
    "plt.ylabel('Total Passengers')\n",
    "plt.show()"
   ]
  },
  {
   "cell_type": "code",
   "execution_count": null,
   "metadata": {},
   "outputs": [],
   "source": [
    "train_writer.close()\n",
    "test_writer.close()"
   ]
  },
  {
   "cell_type": "code",
   "execution_count": null,
   "metadata": {},
   "outputs": [],
   "source": [
    "x = np.array([[1,2],[3,4],[5,6],[7,8],[9,0],[10,11]])"
   ]
  },
  {
   "cell_type": "code",
   "execution_count": null,
   "metadata": {},
   "outputs": [],
   "source": []
  },
  {
   "cell_type": "code",
   "execution_count": null,
   "metadata": {},
   "outputs": [],
   "source": []
  },
  {
   "cell_type": "code",
   "execution_count": null,
   "metadata": {},
   "outputs": [],
   "source": []
  }
 ],
 "metadata": {
  "kernelspec": {
   "display_name": "Python [conda env:py36]",
   "language": "python",
   "name": "conda-env-py36-py"
  },
  "language_info": {
   "codemirror_mode": {
    "name": "ipython",
    "version": 3
   },
   "file_extension": ".py",
   "mimetype": "text/x-python",
   "name": "python",
   "nbconvert_exporter": "python",
   "pygments_lexer": "ipython3",
   "version": "3.6.4"
  }
 },
 "nbformat": 4,
 "nbformat_minor": 2
}
