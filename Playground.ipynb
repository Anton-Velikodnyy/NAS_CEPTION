{
 "cells": [
  {
   "cell_type": "code",
   "execution_count": 1,
   "metadata": {},
   "outputs": [],
   "source": [
    "import matplotlib.pyplot as plt\n",
    "from sklearn import preprocessing as pp"
   ]
  },
  {
   "cell_type": "code",
   "execution_count": 2,
   "metadata": {},
   "outputs": [],
   "source": [
    "import os\n",
    "\n",
    "\n"
   ]
  },
  {
   "cell_type": "code",
   "execution_count": 3,
   "metadata": {},
   "outputs": [
    {
     "name": "stderr",
     "output_type": "stream",
     "text": [
      "/home/hackerman/anaconda2/envs/py36/lib/python3.6/site-packages/h5py/__init__.py:36: FutureWarning: Conversion of the second argument of issubdtype from `float` to `np.floating` is deprecated. In future, it will be treated as `np.float64 == np.dtype(float).type`.\n",
      "  from ._conv import register_converters as _register_converters\n"
     ]
    }
   ],
   "source": [
    "\n",
    "os.chdir(os.path.dirname('/home/hackerman/GitHub/exploration/tf_fun/'))\n",
    "\n",
    "# propriatary mnist management\n",
    "DATASETSLIB_HOME = './datasetslib'\n",
    "import sys\n",
    "if not DATASETSLIB_HOME in sys.path:\n",
    "    sys.path.append(DATASETSLIB_HOME)\n",
    "%reload_ext autoreload\n",
    "%autoreload 2\n",
    "import datasetslib\n",
    "\n",
    "from datasetslib import util as dsu\n",
    "datasetslib.datasets_root = os.path.join(os.path.expanduser('~'),'datasets')"
   ]
  },
  {
   "cell_type": "code",
   "execution_count": 4,
   "metadata": {},
   "outputs": [],
   "source": [
    "import pandas as pd\n",
    "import numpy as np\n",
    "filename = os.path.join(datasetslib.datasets_root,'international-airline-passengers.csv')\n",
    "dataframe = pd.read_csv(filename,usecols=[1],header=0)\n",
    "dataset = dataframe.values\n",
    "dataset = dataset.astype(np.float32)\n",
    "\n",
    "scaler = pp.MinMaxScaler(feature_range=(0,1))\n",
    "normalized_dataset = scaler.fit_transform(dataset)\n",
    "\n",
    "train,test=dsu.train_test_split(normalized_dataset,train_size=0.67)\n",
    "\n",
    "n_x=1\n",
    "n_y=1\n",
    "X_train, Y_train, X_test, Y_test = dsu.mvts_to_xy(train,test,n_x=n_x,n_y=n_y)"
   ]
  },
  {
   "cell_type": "code",
   "execution_count": 5,
   "metadata": {},
   "outputs": [
    {
     "data": {
      "image/png": "[encoded data removed]",
      "text/plain": [
       "<Figure size 432x288 with 1 Axes>"
      ]
     },
     "metadata": {},
     "output_type": "display_data"
    }
   ],
   "source": [
    "plt.plot(normalized_dataset,label='Original Data')\n",
    "plt.plot(X_train,label='Train Data')\n",
    "plt.legend()\n",
    "plt.show()"
   ]
  },
  {
   "cell_type": "code",
   "execution_count": 6,
   "metadata": {},
   "outputs": [],
   "source": [
    "state_size = 32\n",
    "n_epochs = 2000\n",
    "n_timesteps = n_x\n",
    "learning_rate = 0.1\n",
    "n_x_vars = 1\n",
    "n_y_vars = 1"
   ]
  },
  {
   "cell_type": "code",
   "execution_count": 7,
   "metadata": {},
   "outputs": [],
   "source": [
    "import tensorflow as tf"
   ]
  },
  {
   "cell_type": "code",
   "execution_count": 8,
   "metadata": {},
   "outputs": [],
   "source": [
    "tf.reset_default_graph()"
   ]
  },
  {
   "cell_type": "code",
   "execution_count": 9,
   "metadata": {},
   "outputs": [],
   "source": [
    "X_p = tf.placeholder(tf.float32,[None,n_timesteps,n_x_vars],name='X_p')\n",
    "Y_p = tf.placeholder(tf.float32,[None,n_timesteps,n_y_vars],name='Y_p')"
   ]
  },
  {
   "cell_type": "code",
   "execution_count": 10,
   "metadata": {},
   "outputs": [],
   "source": [
    "rnn_inputs = tf.unstack(X_p,axis=1)"
   ]
  },
  {
   "cell_type": "code",
   "execution_count": 11,
   "metadata": {},
   "outputs": [],
   "source": [
    "os.chdir(os.path.dirname('/home/hackerman/GitHub/NAS_CEPTION/'))\n"
   ]
  },
  {
   "cell_type": "code",
   "execution_count": 12,
   "metadata": {},
   "outputs": [],
   "source": [
    "\n",
    "#from cell import BasicLSTMCell"
   ]
  },
  {
   "cell_type": "code",
   "execution_count": 13,
   "metadata": {},
   "outputs": [],
   "source": [
    "from tensorflow.python.ops import math_ops\n",
    "from tensorflow.python.ops import nn_ops\n"
   ]
  },
  {
   "cell_type": "code",
   "execution_count": 14,
   "metadata": {},
   "outputs": [],
   "source": [
    "# comparison cell\n",
    "# from tensorflow.contrib.rnn import BasicLSTMCell\n",
    "# cell = BasicLSTMCell(state_size)\n",
    "# my cell\n",
    "# from cell import BasicNeatCell\n",
    "# cell = BasicNeatCell(state_size)\n",
    "# my cell\n",
    "from cell import BasicNeat2Cell\n",
    "cell = BasicNeat2Cell(state_size)"
   ]
  },
  {
   "cell_type": "code",
   "execution_count": 15,
   "metadata": {},
   "outputs": [],
   "source": [
    "rnn_outputs, final_state = tf.nn.static_rnn(cell,rnn_inputs,dtype=tf.float32)"
   ]
  },
  {
   "cell_type": "code",
   "execution_count": null,
   "metadata": {},
   "outputs": [],
   "source": []
  },
  {
   "cell_type": "code",
   "execution_count": 16,
   "metadata": {},
   "outputs": [],
   "source": [
    "W = tf.get_variable('W',[state_size,n_y_vars])\n",
    "b = tf.get_variable('b',[n_y_vars], initializer=tf.constant_initializer(0.0))\n",
    "predictions = [tf.matmul(rnn_output, W) + b for rnn_output in rnn_outputs]"
   ]
  },
  {
   "cell_type": "code",
   "execution_count": 17,
   "metadata": {},
   "outputs": [],
   "source": [
    "y_as_list = tf.unstack(Y_p,num=n_timesteps,axis=1)"
   ]
  },
  {
   "cell_type": "code",
   "execution_count": 18,
   "metadata": {},
   "outputs": [],
   "source": [
    "mse = tf.losses.mean_squared_error\n",
    "losses = [mse(labels=label, predictions=prediction) for prediction, label in zip(predictions, y_as_list)]"
   ]
  },
  {
   "cell_type": "code",
   "execution_count": 19,
   "metadata": {},
   "outputs": [],
   "source": [
    "total_loss = tf.reduce_mean(losses)"
   ]
  },
  {
   "cell_type": "code",
   "execution_count": 20,
   "metadata": {},
   "outputs": [
    {
     "data": {
      "text/plain": [
       "1"
      ]
     },
     "execution_count": 20,
     "metadata": {},
     "output_type": "execute_result"
    }
   ],
   "source": [
    "n_timesteps"
   ]
  },
  {
   "cell_type": "code",
   "execution_count": 21,
   "metadata": {},
   "outputs": [],
   "source": [
    "optimizer = tf.train.AdagradOptimizer(learning_rate).minimize(total_loss)\n"
   ]
  },
  {
   "cell_type": "code",
   "execution_count": 22,
   "metadata": {},
   "outputs": [
    {
     "data": {
      "text/plain": [
       "2000"
      ]
     },
     "execution_count": 22,
     "metadata": {},
     "output_type": "execute_result"
    }
   ],
   "source": [
    "n_epochs"
   ]
  },
  {
   "cell_type": "code",
   "execution_count": 35,
   "metadata": {},
   "outputs": [
    {
     "name": "stdout",
     "output_type": "stream",
     "text": [
      "train mse = 0.001958586508408189\n",
      "test mse = 0.00875528808683157\n",
      "test rmse = 0.09356969594955444\n"
     ]
    }
   ],
   "source": [
    "with tf.Session() as tfs:\n",
    "    tfs.run(tf.global_variables_initializer())\n",
    "    epoch_loss = 0.0\n",
    "    for epoch in range(n_epochs):\n",
    "        feed_dict={X_p: X_train.reshape(-1, n_timesteps, \n",
    "                                        n_x_vars), \n",
    "                   Y_p: Y_train.reshape(-1, n_timesteps, \n",
    "                                        n_x_vars)\n",
    "                  }\n",
    "        \n",
    "        epoch_loss,y_train_pred,_=tfs.run([total_loss,predictions,optimizer], \n",
    "                                            feed_dict=feed_dict\n",
    "                                           )\n",
    "    print(\"train mse = {}\".format(epoch_loss))\n",
    "    feed_dict={X_p: X_test.reshape(-1, n_timesteps, \n",
    "                                    n_x_vars), \n",
    "               Y_p: Y_test.reshape(-1, n_timesteps, \n",
    "                                    n_y_vars)\n",
    "              }\n",
    "    test_loss, y_test_pred = tfs.run([total_loss,predictions], \n",
    "                                     feed_dict=feed_dict\n",
    "                                    )\n",
    "    print('test mse = {}'.format(test_loss))\n",
    "    print('test rmse = {}'.format(np.sqrt(test_loss)))"
   ]
  },
  {
   "cell_type": "code",
   "execution_count": 36,
   "metadata": {},
   "outputs": [],
   "source": [
    "y_train_pred=y_train_pred[0]\n",
    "y_test_pred=y_test_pred[0]"
   ]
  },
  {
   "cell_type": "code",
   "execution_count": 37,
   "metadata": {},
   "outputs": [],
   "source": [
    "#invert predictions\n",
    "y_train_pred = scaler.inverse_transform(y_train_pred)\n",
    "y_test_pred = scaler.inverse_transform(y_test_pred)\n",
    "\n",
    "#invert originals\n",
    "y_train_orig = scaler.inverse_transform(Y_train)\n",
    "y_test_orig = scaler.inverse_transform(Y_test)"
   ]
  },
  {
   "cell_type": "code",
   "execution_count": 38,
   "metadata": {},
   "outputs": [
    {
     "data": {
      "image/png": "[encoded data removed]",
      "text/plain": [
       "<Figure size 432x288 with 1 Axes>"
      ]
     },
     "metadata": {},
     "output_type": "display_data"
    }
   ],
   "source": [
    "# shift train predictions for plotting\n",
    "trainPredictPlot = np.empty_like(dataset)\n",
    "trainPredictPlot[:, :] = np.nan\n",
    "trainPredictPlot[n_x-1:len(y_train_pred)+n_x-1, :] = y_train_pred\n",
    "# shift test predictions for plotting\n",
    "testPredictPlot = np.empty_like(dataset)\n",
    "testPredictPlot[:, :] = np.nan\n",
    "testPredictPlot[len(y_train_pred)+(n_x*2)-1:len(dataset)-1, :] = y_test_pred\n",
    "# plot baseline and predictions\n",
    "plt.plot(dataset,label='Original Data')\n",
    "plt.plot(trainPredictPlot,label='y_train_pred')\n",
    "plt.plot(testPredictPlot,label='y_test_pred')\n",
    "plt.legend()\n",
    "plt.xlabel('Timesteps')\n",
    "plt.ylabel('Total Passengers')\n",
    "plt.show()"
   ]
  },
  {
   "cell_type": "code",
   "execution_count": 27,
   "metadata": {},
   "outputs": [],
   "source": [
    "x = np.array([[1,2],[3,4],[5,6],[7,8],[9,0],[10,11]])"
   ]
  },
  {
   "cell_type": "code",
   "execution_count": 28,
   "metadata": {},
   "outputs": [
    {
     "data": {
      "text/plain": [
       "(6, 2)"
      ]
     },
     "execution_count": 28,
     "metadata": {},
     "output_type": "execute_result"
    }
   ],
   "source": [
    "x.shape"
   ]
  },
  {
   "cell_type": "code",
   "execution_count": 29,
   "metadata": {},
   "outputs": [],
   "source": [
    "y= np.split(x,[1,2],axis=0)"
   ]
  },
  {
   "cell_type": "code",
   "execution_count": 30,
   "metadata": {},
   "outputs": [
    {
     "data": {
      "text/plain": [
       "[array([[1, 2]]), array([[3, 4]]), array([[ 5,  6],\n",
       "        [ 7,  8],\n",
       "        [ 9,  0],\n",
       "        [10, 11]])]"
      ]
     },
     "execution_count": 30,
     "metadata": {},
     "output_type": "execute_result"
    }
   ],
   "source": [
    "y"
   ]
  },
  {
   "cell_type": "code",
   "execution_count": 31,
   "metadata": {},
   "outputs": [
    {
     "ename": "AttributeError",
     "evalue": "module 'tensorflow.python.ops.math_ops' has no attribute 'ide'",
     "output_type": "error",
     "traceback": [
      "\u001b[0;31m---------------------------------------------------------------------------\u001b[0m",
      "\u001b[0;31mAttributeError\u001b[0m                            Traceback (most recent call last)",
      "\u001b[0;32m<ipython-input-31-3418b1e08b9a>\u001b[0m in \u001b[0;36m<module>\u001b[0;34m()\u001b[0m\n\u001b[0;32m----> 1\u001b[0;31m \u001b[0mmath_ops\u001b[0m\u001b[0;34m.\u001b[0m\u001b[0mide\u001b[0m\u001b[0;34m\u001b[0m\u001b[0m\n\u001b[0m",
      "\u001b[0;31mAttributeError\u001b[0m: module 'tensorflow.python.ops.math_ops' has no attribute 'ide'"
     ]
    }
   ],
   "source": [
    "math_ops.ide"
   ]
  },
  {
   "cell_type": "code",
   "execution_count": null,
   "metadata": {},
   "outputs": [],
   "source": []
  }
 ],
 "metadata": {
  "kernelspec": {
   "display_name": "Python [conda env:py36]",
   "language": "python",
   "name": "conda-env-py36-py"
  },
  "language_info": {
   "codemirror_mode": {
    "name": "ipython",
    "version": 3
   },
   "file_extension": ".py",
   "mimetype": "text/x-python",
   "name": "python",
   "nbconvert_exporter": "python",
   "pygments_lexer": "ipython3",
   "version": "3.6.4"
  }
 },
 "nbformat": 4,
 "nbformat_minor": 2
}
